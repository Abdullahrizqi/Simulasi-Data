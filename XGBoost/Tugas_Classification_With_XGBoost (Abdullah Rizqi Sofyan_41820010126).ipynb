{
  "cells": [
    {
      "cell_type": "markdown",
      "source": [
        "Abdullah Rizqi Sofyan\n",
        "41820010126"
      ],
      "metadata": {
        "id": "vnHaxQEjLy9T"
      },
      "id": "vnHaxQEjLy9T"
    },
    {
      "cell_type": "code",
      "execution_count": null,
      "id": "8a6831b7",
      "metadata": {
        "id": "8a6831b7",
        "outputId": "882d3771-5b33-443d-f14f-f2a6b4efe3ee"
      },
      "outputs": [
        {
          "name": "stdout",
          "output_type": "stream",
          "text": [
            "Collecting xgboost\n",
            "  Downloading xgboost-1.7.5-py3-none-win_amd64.whl (70.9 MB)\n",
            "     ---------------------------------------- 70.9/70.9 MB 1.1 MB/s eta 0:00:00\n",
            "Requirement already satisfied: numpy in c:\\users\\khalil\\appdata\\local\\programs\\python\\python311\\lib\\site-packages (from xgboost) (1.23.5)\n",
            "Requirement already satisfied: scipy in c:\\users\\khalil\\appdata\\local\\programs\\python\\python311\\lib\\site-packages (from xgboost) (1.10.1)\n",
            "Installing collected packages: xgboost\n",
            "Successfully installed xgboost-1.7.5\n",
            "Note: you may need to restart the kernel to use updated packages.\n"
          ]
        },
        {
          "name": "stderr",
          "output_type": "stream",
          "text": [
            "\n",
            "[notice] A new release of pip available: 22.3.1 -> 23.1.2\n",
            "[notice] To update, run: python.exe -m pip install --upgrade pip\n"
          ]
        }
      ],
      "source": [
        "pip install xgboost"
      ]
    },
    {
      "cell_type": "code",
      "execution_count": null,
      "id": "352d3acc",
      "metadata": {
        "id": "352d3acc"
      },
      "outputs": [],
      "source": [
        "import numpy as np\n",
        "import pandas as pd\n",
        "import matplotlib.pyplot as plt\n",
        "import xgboost as xgb\n",
        "\n",
        "plt.rcParams['figure.figsize'] = (10, 5)"
      ]
    },
    {
      "cell_type": "code",
      "execution_count": null,
      "id": "6e504ebe",
      "metadata": {
        "id": "6e504ebe"
      },
      "outputs": [],
      "source": [
        "churn_data = pd.read_csv('churn_data.csv')"
      ]
    },
    {
      "cell_type": "code",
      "execution_count": null,
      "id": "38bb62b6",
      "metadata": {
        "id": "38bb62b6",
        "outputId": "5826ab2d-d66d-41a1-edf4-51beb6612ee3"
      },
      "outputs": [
        {
          "name": "stdout",
          "output_type": "stream",
          "text": [
            "accuracy: 0.758200\n"
          ]
        }
      ],
      "source": [
        "from sklearn.model_selection import train_test_split\n",
        "\n",
        "# Create arrays for the features and the target: X, y\n",
        "X, y = churn_data.iloc[:, :-1], churn_data.iloc[:, -1]\n",
        "\n",
        "# Create the training and test sets\n",
        "X_train, X_test, y_train, y_test = train_test_split(X, y, test_size=0.2, random_state=123)\n",
        "\n",
        "# Instantiate the XGBClassifier: xg_cl\n",
        "xg_cl = xgb.XGBClassifier(objective='binary:logistic', n_estimators=10, seed=123)\n",
        "\n",
        "# Fit the classifier to the training set\n",
        "xg_cl.fit(X_train, y_train)\n",
        "\n",
        "# Predict the labels of the test set: preds\n",
        "preds = xg_cl.predict(X_test)\n",
        "\n",
        "# Compute the accuracy: accuracy\n",
        "accuracy = float(np.sum(preds == y_test)) / y_test.shape[0]\n",
        "print(\"accuracy: %f\" % (accuracy))"
      ]
    },
    {
      "cell_type": "code",
      "execution_count": null,
      "id": "3121f373",
      "metadata": {
        "id": "3121f373"
      },
      "outputs": [],
      "source": [
        "X = pd.read_csv('xgb_breast_X.csv').to_numpy()\n",
        "y = pd.read_csv('xgb_breast_y.csv').to_numpy().ravel()"
      ]
    },
    {
      "cell_type": "code",
      "execution_count": null,
      "id": "7d61d967",
      "metadata": {
        "id": "7d61d967",
        "outputId": "19b14488-a63b-462f-9524-9149607df72b"
      },
      "outputs": [
        {
          "name": "stdout",
          "output_type": "stream",
          "text": [
            "Accuracy: 0.9736842105263158\n"
          ]
        }
      ],
      "source": [
        "from sklearn.tree import DecisionTreeClassifier\n",
        "\n",
        "# Create the training and test sets\n",
        "X_train, X_test, y_train, y_test = train_test_split(X, y, test_size=0.2, random_state=123)\n",
        "\n",
        "# Instantiate the classifier: dt_clf_4\n",
        "dt_clf_4 = DecisionTreeClassifier(max_depth=4)\n",
        "\n",
        "# Fit the classifier to the training set\n",
        "dt_clf_4.fit(X_train, y_train)\n",
        "\n",
        "# Predict the labels of the test set: y_pred_4\n",
        "y_pred_4 = dt_clf_4.predict(X_test)\n",
        "\n",
        "# Compute the accuracy of the predictions: accuracy\n",
        "accuracy = float(np.sum(y_pred_4 == y_test)) / y_test.shape[0]\n",
        "print(\"Accuracy:\", accuracy)"
      ]
    },
    {
      "cell_type": "code",
      "execution_count": null,
      "id": "50dee804",
      "metadata": {
        "id": "50dee804"
      },
      "outputs": [],
      "source": [
        "churn_data = pd.read_csv('churn_data.csv')"
      ]
    },
    {
      "cell_type": "code",
      "execution_count": null,
      "id": "7491c82b",
      "metadata": {
        "id": "7491c82b",
        "outputId": "e5089704-f778-4806-a853-a6b03351e855"
      },
      "outputs": [
        {
          "name": "stdout",
          "output_type": "stream",
          "text": [
            "   train-error-mean  train-error-std  test-error-mean  test-error-std\n",
            "0           0.28232         0.002366          0.28378        0.001932\n",
            "1           0.26951         0.001855          0.27190        0.001932\n",
            "2           0.25605         0.003213          0.25798        0.003963\n",
            "3           0.25090         0.001844          0.25434        0.003827\n",
            "4           0.24654         0.001981          0.24852        0.000934\n",
            "0.751480015401492\n"
          ]
        }
      ],
      "source": [
        "# Create arrays for the features and the target: X, y\n",
        "X, y = churn_data.iloc[:, :-1], churn_data.iloc[:, -1]\n",
        "\n",
        "# Create the DMatrix from X and y: churn_dmatrix\n",
        "churn_dmatrix = xgb.DMatrix(data=X, label=y)\n",
        "\n",
        "# Create the parameter dictionary: params\n",
        "params = {'objective':\"reg:logistic\", \"max_depth\":3}\n",
        "\n",
        "# Perform cross-validation: cv_results\n",
        "cv_results = xgb.cv(dtrain=churn_dmatrix, params=params,\n",
        "                   nfold=3, num_boost_round=5,\n",
        "                   metrics=\"error\", as_pandas=True, seed=123)\n",
        "\n",
        "# Pint cv_results\n",
        "print(cv_results)\n",
        "\n",
        "# Print the accuracy\n",
        "print(((1 - cv_results['test-error-mean']).iloc[-1]))"
      ]
    },
    {
      "cell_type": "code",
      "execution_count": null,
      "id": "2c197b96",
      "metadata": {
        "id": "2c197b96",
        "outputId": "45e32036-9153-4b11-8ec3-0a2b0675b6ef"
      },
      "outputs": [
        {
          "name": "stdout",
          "output_type": "stream",
          "text": [
            "   train-auc-mean  train-auc-std  test-auc-mean  test-auc-std\n",
            "0        0.768893       0.001544       0.767863      0.002819\n",
            "1        0.790864       0.006758       0.789156      0.006846\n",
            "2        0.815872       0.003900       0.814476      0.005997\n",
            "3        0.822959       0.002018       0.821682      0.003912\n",
            "4        0.827528       0.000769       0.826191      0.001937\n",
            "0.8261911413597645\n"
          ]
        }
      ],
      "source": [
        "# Perform cross_validation: cv_results\n",
        "cv_results = xgb.cv(dtrain=churn_dmatrix, params=params,\n",
        "                    nfold=3, num_boost_round=5,\n",
        "                    metrics=\"auc\", as_pandas=True, seed=123)\n",
        "\n",
        "# Print cv_results\n",
        "print(cv_results)\n",
        "\n",
        "# Print the AUC\n",
        "print((cv_results[\"test-auc-mean\"]).iloc[-1])"
      ]
    },
    {
      "cell_type": "code",
      "execution_count": null,
      "id": "5c625982",
      "metadata": {
        "id": "5c625982"
      },
      "outputs": [],
      "source": []
    }
  ],
  "metadata": {
    "kernelspec": {
      "display_name": "Python 3 (ipykernel)",
      "language": "python",
      "name": "python3"
    },
    "language_info": {
      "codemirror_mode": {
        "name": "ipython",
        "version": 3
      },
      "file_extension": ".py",
      "mimetype": "text/x-python",
      "name": "python",
      "nbconvert_exporter": "python",
      "pygments_lexer": "ipython3",
      "version": "3.11.2"
    },
    "colab": {
      "provenance": []
    }
  },
  "nbformat": 4,
  "nbformat_minor": 5
}